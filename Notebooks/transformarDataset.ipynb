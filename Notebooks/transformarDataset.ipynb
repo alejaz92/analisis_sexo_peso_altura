{
 "cells": [
  {
   "cell_type": "markdown",
   "metadata": {},
   "source": [
    "## Vamos a transformar el dataset original para poder usarlo mejor en lo que necesitamos"
   ]
  },
  {
   "cell_type": "code",
   "execution_count": 25,
   "metadata": {},
   "outputs": [],
   "source": [
    "import pandas as pd"
   ]
  },
  {
   "cell_type": "code",
   "execution_count": 7,
   "metadata": {},
   "outputs": [],
   "source": [
    "data = pd.read_csv(\"../Dataset/weight-height.csv\")\n",
    "# el peso se encuentra en libras y la altura en pulgadas\n",
    "# hay que mezclar las filas porque estan primero hombres y luego mujeres"
   ]
  },
  {
   "cell_type": "code",
   "execution_count": 9,
   "metadata": {},
   "outputs": [
    {
     "output_type": "execute_result",
     "data": {
      "text/plain": "  Gender     Height      Weight\n0   Male  73.847017  241.893563\n1   Male  68.781904  162.310473\n2   Male  74.110105  212.740856\n3   Male  71.730978  220.042470\n4   Male  69.881796  206.349801",
      "text/html": "<div>\n<style scoped>\n    .dataframe tbody tr th:only-of-type {\n        vertical-align: middle;\n    }\n\n    .dataframe tbody tr th {\n        vertical-align: top;\n    }\n\n    .dataframe thead th {\n        text-align: right;\n    }\n</style>\n<table border=\"1\" class=\"dataframe\">\n  <thead>\n    <tr style=\"text-align: right;\">\n      <th></th>\n      <th>Gender</th>\n      <th>Height</th>\n      <th>Weight</th>\n    </tr>\n  </thead>\n  <tbody>\n    <tr>\n      <th>0</th>\n      <td>Male</td>\n      <td>73.847017</td>\n      <td>241.893563</td>\n    </tr>\n    <tr>\n      <th>1</th>\n      <td>Male</td>\n      <td>68.781904</td>\n      <td>162.310473</td>\n    </tr>\n    <tr>\n      <th>2</th>\n      <td>Male</td>\n      <td>74.110105</td>\n      <td>212.740856</td>\n    </tr>\n    <tr>\n      <th>3</th>\n      <td>Male</td>\n      <td>71.730978</td>\n      <td>220.042470</td>\n    </tr>\n    <tr>\n      <th>4</th>\n      <td>Male</td>\n      <td>69.881796</td>\n      <td>206.349801</td>\n    </tr>\n  </tbody>\n</table>\n</div>"
     },
     "metadata": {},
     "execution_count": 9
    }
   ],
   "source": [
    "data.head()"
   ]
  },
  {
   "cell_type": "code",
   "execution_count": 10,
   "metadata": {},
   "outputs": [
    {
     "output_type": "execute_result",
     "data": {
      "text/plain": "  Gender      Height      Weight\n0   Male  187.571423  241.893563\n1   Male  174.706036  162.310473\n2   Male  188.239668  212.740856\n3   Male  182.196685  220.042470\n4   Male  177.499761  206.349801",
      "text/html": "<div>\n<style scoped>\n    .dataframe tbody tr th:only-of-type {\n        vertical-align: middle;\n    }\n\n    .dataframe tbody tr th {\n        vertical-align: top;\n    }\n\n    .dataframe thead th {\n        text-align: right;\n    }\n</style>\n<table border=\"1\" class=\"dataframe\">\n  <thead>\n    <tr style=\"text-align: right;\">\n      <th></th>\n      <th>Gender</th>\n      <th>Height</th>\n      <th>Weight</th>\n    </tr>\n  </thead>\n  <tbody>\n    <tr>\n      <th>0</th>\n      <td>Male</td>\n      <td>187.571423</td>\n      <td>241.893563</td>\n    </tr>\n    <tr>\n      <th>1</th>\n      <td>Male</td>\n      <td>174.706036</td>\n      <td>162.310473</td>\n    </tr>\n    <tr>\n      <th>2</th>\n      <td>Male</td>\n      <td>188.239668</td>\n      <td>212.740856</td>\n    </tr>\n    <tr>\n      <th>3</th>\n      <td>Male</td>\n      <td>182.196685</td>\n      <td>220.042470</td>\n    </tr>\n    <tr>\n      <th>4</th>\n      <td>Male</td>\n      <td>177.499761</td>\n      <td>206.349801</td>\n    </tr>\n  </tbody>\n</table>\n</div>"
     },
     "metadata": {},
     "execution_count": 10
    }
   ],
   "source": [
    "# pasamos la altura de pulgadas a centimetros\n",
    "data[\"Height\"] = data[\"Height\"] * 2.54 \n",
    "data.head()"
   ]
  },
  {
   "cell_type": "code",
   "execution_count": 11,
   "metadata": {},
   "outputs": [
    {
     "output_type": "execute_result",
     "data": {
      "text/plain": "  Gender      Height      Weight\n0   Male  187.571423  108.852103\n1   Male  174.706036   73.039713\n2   Male  188.239668   95.733385\n3   Male  182.196685   99.019112\n4   Male  177.499761   92.857410",
      "text/html": "<div>\n<style scoped>\n    .dataframe tbody tr th:only-of-type {\n        vertical-align: middle;\n    }\n\n    .dataframe tbody tr th {\n        vertical-align: top;\n    }\n\n    .dataframe thead th {\n        text-align: right;\n    }\n</style>\n<table border=\"1\" class=\"dataframe\">\n  <thead>\n    <tr style=\"text-align: right;\">\n      <th></th>\n      <th>Gender</th>\n      <th>Height</th>\n      <th>Weight</th>\n    </tr>\n  </thead>\n  <tbody>\n    <tr>\n      <th>0</th>\n      <td>Male</td>\n      <td>187.571423</td>\n      <td>108.852103</td>\n    </tr>\n    <tr>\n      <th>1</th>\n      <td>Male</td>\n      <td>174.706036</td>\n      <td>73.039713</td>\n    </tr>\n    <tr>\n      <th>2</th>\n      <td>Male</td>\n      <td>188.239668</td>\n      <td>95.733385</td>\n    </tr>\n    <tr>\n      <th>3</th>\n      <td>Male</td>\n      <td>182.196685</td>\n      <td>99.019112</td>\n    </tr>\n    <tr>\n      <th>4</th>\n      <td>Male</td>\n      <td>177.499761</td>\n      <td>92.857410</td>\n    </tr>\n  </tbody>\n</table>\n</div>"
     },
     "metadata": {},
     "execution_count": 11
    }
   ],
   "source": [
    "# pasamos el peso de libras a kilogramos\n",
    "data[\"Weight\"] = data[\"Weight\"] * 0.45\n",
    "data.head()"
   ]
  },
  {
   "cell_type": "code",
   "execution_count": 4,
   "metadata": {},
   "outputs": [
    {
     "output_type": "execute_result",
     "data": {
      "text/plain": "     Gender     Height      Weight\n4068   Male  65.864034  175.562579\n4097   Male  66.308373  181.987816\n4788   Male  70.688943  186.792363\n911    Male  66.854738  161.223965\n1903   Male  68.694989  195.115896",
      "text/html": "<div>\n<style scoped>\n    .dataframe tbody tr th:only-of-type {\n        vertical-align: middle;\n    }\n\n    .dataframe tbody tr th {\n        vertical-align: top;\n    }\n\n    .dataframe thead th {\n        text-align: right;\n    }\n</style>\n<table border=\"1\" class=\"dataframe\">\n  <thead>\n    <tr style=\"text-align: right;\">\n      <th></th>\n      <th>Gender</th>\n      <th>Height</th>\n      <th>Weight</th>\n    </tr>\n  </thead>\n  <tbody>\n    <tr>\n      <th>4068</th>\n      <td>Male</td>\n      <td>65.864034</td>\n      <td>175.562579</td>\n    </tr>\n    <tr>\n      <th>4097</th>\n      <td>Male</td>\n      <td>66.308373</td>\n      <td>181.987816</td>\n    </tr>\n    <tr>\n      <th>4788</th>\n      <td>Male</td>\n      <td>70.688943</td>\n      <td>186.792363</td>\n    </tr>\n    <tr>\n      <th>911</th>\n      <td>Male</td>\n      <td>66.854738</td>\n      <td>161.223965</td>\n    </tr>\n    <tr>\n      <th>1903</th>\n      <td>Male</td>\n      <td>68.694989</td>\n      <td>195.115896</td>\n    </tr>\n  </tbody>\n</table>\n</div>"
     },
     "metadata": {},
     "execution_count": 4
    }
   ],
   "source": [
    "# mezclamos las filas\n",
    "data = data.sample(frac= 1)\n",
    "data.head()"
   ]
  },
  {
   "cell_type": "code",
   "execution_count": 20,
   "metadata": {},
   "outputs": [
    {
     "output_type": "execute_result",
     "data": {
      "text/plain": "4068    167.294648\n4097    168.423266\n4788    179.549916\n911     169.811034\n1903    174.485273\nName: Height, dtype: float64"
     },
     "metadata": {},
     "execution_count": 20
    }
   ],
   "source": [
    "# pasamos a centimetros\n",
    "altura = data[\"Height\"] * 2.54\n",
    "altura.head()"
   ]
  },
  {
   "cell_type": "code",
   "execution_count": 12,
   "metadata": {},
   "outputs": [
    {
     "output_type": "execute_result",
     "data": {
      "text/plain": "   Female  Male\n0       0     1\n1       0     1\n2       0     1\n3       0     1\n4       0     1",
      "text/html": "<div>\n<style scoped>\n    .dataframe tbody tr th:only-of-type {\n        vertical-align: middle;\n    }\n\n    .dataframe tbody tr th {\n        vertical-align: top;\n    }\n\n    .dataframe thead th {\n        text-align: right;\n    }\n</style>\n<table border=\"1\" class=\"dataframe\">\n  <thead>\n    <tr style=\"text-align: right;\">\n      <th></th>\n      <th>Female</th>\n      <th>Male</th>\n    </tr>\n  </thead>\n  <tbody>\n    <tr>\n      <th>0</th>\n      <td>0</td>\n      <td>1</td>\n    </tr>\n    <tr>\n      <th>1</th>\n      <td>0</td>\n      <td>1</td>\n    </tr>\n    <tr>\n      <th>2</th>\n      <td>0</td>\n      <td>1</td>\n    </tr>\n    <tr>\n      <th>3</th>\n      <td>0</td>\n      <td>1</td>\n    </tr>\n    <tr>\n      <th>4</th>\n      <td>0</td>\n      <td>1</td>\n    </tr>\n  </tbody>\n</table>\n</div>"
     },
     "metadata": {},
     "execution_count": 12
    }
   ],
   "source": [
    "dummy = pd.get_dummies(data[\"Gender\"])\n",
    "dummy.head()"
   ]
  },
  {
   "cell_type": "code",
   "execution_count": 13,
   "metadata": {},
   "outputs": [
    {
     "output_type": "execute_result",
     "data": {
      "text/plain": "       Height      Weight  Male\n0  187.571423  108.852103     1\n1  174.706036   73.039713     1\n2  188.239668   95.733385     1\n3  182.196685   99.019112     1\n4  177.499761   92.857410     1",
      "text/html": "<div>\n<style scoped>\n    .dataframe tbody tr th:only-of-type {\n        vertical-align: middle;\n    }\n\n    .dataframe tbody tr th {\n        vertical-align: top;\n    }\n\n    .dataframe thead th {\n        text-align: right;\n    }\n</style>\n<table border=\"1\" class=\"dataframe\">\n  <thead>\n    <tr style=\"text-align: right;\">\n      <th></th>\n      <th>Height</th>\n      <th>Weight</th>\n      <th>Male</th>\n    </tr>\n  </thead>\n  <tbody>\n    <tr>\n      <th>0</th>\n      <td>187.571423</td>\n      <td>108.852103</td>\n      <td>1</td>\n    </tr>\n    <tr>\n      <th>1</th>\n      <td>174.706036</td>\n      <td>73.039713</td>\n      <td>1</td>\n    </tr>\n    <tr>\n      <th>2</th>\n      <td>188.239668</td>\n      <td>95.733385</td>\n      <td>1</td>\n    </tr>\n    <tr>\n      <th>3</th>\n      <td>182.196685</td>\n      <td>99.019112</td>\n      <td>1</td>\n    </tr>\n    <tr>\n      <th>4</th>\n      <td>177.499761</td>\n      <td>92.857410</td>\n      <td>1</td>\n    </tr>\n  </tbody>\n</table>\n</div>"
     },
     "metadata": {},
     "execution_count": 13
    }
   ],
   "source": [
    "df = pd.concat([data[\"Height\"], data[\"Weight\"], dummy[\"Male\"]], axis= 1)\n",
    "df.head()"
   ]
  },
  {
   "cell_type": "code",
   "execution_count": 16,
   "metadata": {},
   "outputs": [
    {
     "output_type": "execute_result",
     "data": {
      "text/plain": "       Altura        Peso  Sexo\n0  187.571423  108.852103     1\n1  174.706036   73.039713     1\n2  188.239668   95.733385     1\n3  182.196685   99.019112     1\n4  177.499761   92.857410     1",
      "text/html": "<div>\n<style scoped>\n    .dataframe tbody tr th:only-of-type {\n        vertical-align: middle;\n    }\n\n    .dataframe tbody tr th {\n        vertical-align: top;\n    }\n\n    .dataframe thead th {\n        text-align: right;\n    }\n</style>\n<table border=\"1\" class=\"dataframe\">\n  <thead>\n    <tr style=\"text-align: right;\">\n      <th></th>\n      <th>Altura</th>\n      <th>Peso</th>\n      <th>Sexo</th>\n    </tr>\n  </thead>\n  <tbody>\n    <tr>\n      <th>0</th>\n      <td>187.571423</td>\n      <td>108.852103</td>\n      <td>1</td>\n    </tr>\n    <tr>\n      <th>1</th>\n      <td>174.706036</td>\n      <td>73.039713</td>\n      <td>1</td>\n    </tr>\n    <tr>\n      <th>2</th>\n      <td>188.239668</td>\n      <td>95.733385</td>\n      <td>1</td>\n    </tr>\n    <tr>\n      <th>3</th>\n      <td>182.196685</td>\n      <td>99.019112</td>\n      <td>1</td>\n    </tr>\n    <tr>\n      <th>4</th>\n      <td>177.499761</td>\n      <td>92.857410</td>\n      <td>1</td>\n    </tr>\n  </tbody>\n</table>\n</div>"
     },
     "metadata": {},
     "execution_count": 16
    }
   ],
   "source": [
    "df.rename(columns= {'Height': 'Altura', 'Weight': 'Peso', 'Male': 'Sexo'}, inplace= True)\n",
    "df.head()"
   ]
  },
  {
   "cell_type": "code",
   "execution_count": 19,
   "metadata": {},
   "outputs": [
    {
     "output_type": "execute_result",
     "data": {
      "text/plain": "       Altura        Peso  Sexo\n0  183.807681   87.756227     1\n1  186.880711   96.781892     1\n2  184.081405  102.937333     1\n3  152.812776   42.404549     0\n4  170.262159   84.806860     1",
      "text/html": "<div>\n<style scoped>\n    .dataframe tbody tr th:only-of-type {\n        vertical-align: middle;\n    }\n\n    .dataframe tbody tr th {\n        vertical-align: top;\n    }\n\n    .dataframe thead th {\n        text-align: right;\n    }\n</style>\n<table border=\"1\" class=\"dataframe\">\n  <thead>\n    <tr style=\"text-align: right;\">\n      <th></th>\n      <th>Altura</th>\n      <th>Peso</th>\n      <th>Sexo</th>\n    </tr>\n  </thead>\n  <tbody>\n    <tr>\n      <th>0</th>\n      <td>183.807681</td>\n      <td>87.756227</td>\n      <td>1</td>\n    </tr>\n    <tr>\n      <th>1</th>\n      <td>186.880711</td>\n      <td>96.781892</td>\n      <td>1</td>\n    </tr>\n    <tr>\n      <th>2</th>\n      <td>184.081405</td>\n      <td>102.937333</td>\n      <td>1</td>\n    </tr>\n    <tr>\n      <th>3</th>\n      <td>152.812776</td>\n      <td>42.404549</td>\n      <td>0</td>\n    </tr>\n    <tr>\n      <th>4</th>\n      <td>170.262159</td>\n      <td>84.806860</td>\n      <td>1</td>\n    </tr>\n  </tbody>\n</table>\n</div>"
     },
     "metadata": {},
     "execution_count": 19
    }
   ],
   "source": [
    "df = df.sample(frac= 1).reset_index(drop= True)\n",
    "df.head()"
   ]
  },
  {
   "cell_type": "code",
   "execution_count": 20,
   "metadata": {},
   "outputs": [
    {
     "output_type": "execute_result",
     "data": {
      "text/plain": "             Altura          Peso          Sexo\ncount  10000.000000  10000.000000  10000.000000\nmean     168.573602     72.648161      0.500000\nstd        9.772721     14.448798      0.500025\nmin      137.828359     29.115057      0.000000\n25%      161.304276     61.118123      0.000000\n50%      168.447898     72.545817      0.500000\n75%      175.702625     84.226286      1.000000\nmax      200.656806    121.495364      1.000000",
      "text/html": "<div>\n<style scoped>\n    .dataframe tbody tr th:only-of-type {\n        vertical-align: middle;\n    }\n\n    .dataframe tbody tr th {\n        vertical-align: top;\n    }\n\n    .dataframe thead th {\n        text-align: right;\n    }\n</style>\n<table border=\"1\" class=\"dataframe\">\n  <thead>\n    <tr style=\"text-align: right;\">\n      <th></th>\n      <th>Altura</th>\n      <th>Peso</th>\n      <th>Sexo</th>\n    </tr>\n  </thead>\n  <tbody>\n    <tr>\n      <th>count</th>\n      <td>10000.000000</td>\n      <td>10000.000000</td>\n      <td>10000.000000</td>\n    </tr>\n    <tr>\n      <th>mean</th>\n      <td>168.573602</td>\n      <td>72.648161</td>\n      <td>0.500000</td>\n    </tr>\n    <tr>\n      <th>std</th>\n      <td>9.772721</td>\n      <td>14.448798</td>\n      <td>0.500025</td>\n    </tr>\n    <tr>\n      <th>min</th>\n      <td>137.828359</td>\n      <td>29.115057</td>\n      <td>0.000000</td>\n    </tr>\n    <tr>\n      <th>25%</th>\n      <td>161.304276</td>\n      <td>61.118123</td>\n      <td>0.000000</td>\n    </tr>\n    <tr>\n      <th>50%</th>\n      <td>168.447898</td>\n      <td>72.545817</td>\n      <td>0.500000</td>\n    </tr>\n    <tr>\n      <th>75%</th>\n      <td>175.702625</td>\n      <td>84.226286</td>\n      <td>1.000000</td>\n    </tr>\n    <tr>\n      <th>max</th>\n      <td>200.656806</td>\n      <td>121.495364</td>\n      <td>1.000000</td>\n    </tr>\n  </tbody>\n</table>\n</div>"
     },
     "metadata": {},
     "execution_count": 20
    }
   ],
   "source": [
    "df.describe()"
   ]
  },
  {
   "cell_type": "code",
   "execution_count": 24,
   "metadata": {},
   "outputs": [],
   "source": [
    "df.to_csv('data_new.csv')"
   ]
  }
 ],
 "metadata": {
  "language_info": {
   "codemirror_mode": {
    "name": "ipython",
    "version": 3
   },
   "file_extension": ".py",
   "mimetype": "text/x-python",
   "name": "python",
   "nbconvert_exporter": "python",
   "pygments_lexer": "ipython3",
   "version": "3.7.3-final"
  },
  "orig_nbformat": 2,
  "kernelspec": {
   "name": "python3",
   "display_name": "Python 3"
  }
 },
 "nbformat": 4,
 "nbformat_minor": 2
}